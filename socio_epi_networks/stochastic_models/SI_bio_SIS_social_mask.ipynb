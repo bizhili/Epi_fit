{
 "cells": [
  {
   "cell_type": "code",
   "execution_count": 2,
   "metadata": {
    "colab": {
     "base_uri": "https://localhost:8080/"
    },
    "id": "mXBpEKr03XuK",
    "outputId": "34dd4258-8757-4fcb-8b26-b3dcadd82858"
   },
   "outputs": [
    {
     "name": "stdout",
     "output_type": "stream",
     "text": [
      "cpu\n"
     ]
    }
   ],
   "source": [
    "import torch\n",
    "import torch.nn.functional as F\n",
    "import matplotlib.pyplot as plt\n",
    "import time\n",
    "import networkx as nx\n",
    "import itertools\n",
    "import random\n",
    "import math\n",
    "import numpy as np\n",
    "from graphing_utils import *\n",
    "from capsule_utils import *\n",
    "\n",
    "device = \"cuda\" if torch.cuda.is_available() else \"cpu\"\n",
    "#device = \"cpu\"\n",
    "print(device)"
   ]
  },
  {
   "cell_type": "code",
   "execution_count": 3,
   "metadata": {},
   "outputs": [],
   "source": [
    "class S_I(torch.nn.Module):\n",
    "    def __init__(self, contact_net, pinf, I_name, susceptiveness_name, infectiveness_name):\n",
    "        super(S_I,self).__init__()\n",
    "        self._contact_net = contact_net\n",
    "        self._pinf = pinf\n",
    "        self._n = self._contact_net.size()[0]\n",
    "        self._states_names = {'I': I_name, 'susceptiveness': susceptiveness_name, 'infectiveness': infectiveness_name}\n",
    "        \n",
    "    def forward(self, states):\n",
    "        I = states[self._states_names['I']] # boolean state of being infected\n",
    "        susceptiveness = states[self._states_names['susceptiveness']] # floating point, number between 0 and 1 means probability of being infected\n",
    "        infectiveness = states[self._states_names['infectiveness']] # floating point, number between 0 and 1 means probability of infecting another\n",
    "        dI = I*infectiveness\n",
    "        dI = 1 - (1 - self._contact_net.to_dense()*dI.unsqueeze(dim=1).matmul(susceptiveness.unsqueeze(dim=1).t())).prod(dim=0) # probability of being infected in that day\n",
    "        dI = torch.rand(self._n).to(device) < dI.squeeze() # whether or not infected that day\n",
    "        \n",
    "        I = torch.max(I, dI) \n",
    "        states[self._states_names['I']] = I\n",
    "        return states"
   ]
  },
  {
   "cell_type": "code",
   "execution_count": 4,
   "metadata": {
    "id": "7m-DhP463XuP"
   },
   "outputs": [],
   "source": [
    "class I_S(torch.nn.Module):\n",
    "    def __init__(self, contact_net, I_name, R_name, recover_time_name):\n",
    "        super(I_S,self).__init__()\n",
    "        self._contact_net = contact_net\n",
    "        self._n = self._contact_net.size()[0]\n",
    "        self._states_names = {'I': I_name, 'R': R_name, 'recover_time': recover_time_name}\n",
    "        \n",
    "    def forward(self, states):\n",
    "        R = states[self._states_names['R']]\n",
    "        I = states[self._states_names['I']]\n",
    "        recover_time = states[self._states_names['recover_time']]\n",
    "        R = F.relu(R-1)\n",
    "        R = torch.where((I==1) & (R==math.inf), recover_time, R) # setting recovery time for those newly infected  \n",
    "        I = torch.where((R==0), torch.zeros(self._n).to(device), I)\n",
    "        R = torch.where((R==0), torch.ones(self._n).to(device)*math.inf, R) # reset recovery times for those who are susceptible again\n",
    "        states[self._states_names['R']] = R\n",
    "        states[self._states_names['I']] = I\n",
    "        return states"
   ]
  },
  {
   "cell_type": "code",
   "execution_count": 5,
   "metadata": {},
   "outputs": [],
   "source": [
    "class ControllingState_SusceptivenessInfectiveness(torch.nn.Module):\n",
    "    def __init__(self, controlling_state_name, susceptiveness_name, infectiveness_name, susceptiveness_prob, infectiveness_prob):\n",
    "        super(ControllingState_SusceptivenessInfectiveness, self).__init__()\n",
    "        self._susceptiveness_prob = susceptiveness_prob\n",
    "        self._infectiveness_prob = infectiveness_prob\n",
    "        \n",
    "        # if a person is in controlling_state, that person's infectiveness and susceptiveness will change from the default\n",
    "        self._states_names = {\"controlling_state\": controlling_state_name, \"susceptiveness\": susceptiveness_name, \"infectiveness\": infectiveness_name}\n",
    "            \n",
    "    def forward(self, states):\n",
    "        controlling_state = states[self._states_names['controlling_state']]\n",
    "        susceptiveness = states[self._states_names['susceptiveness']]\n",
    "        infectiveness = states[self._states_names['infectiveness']]\n",
    "        \n",
    "        susceptiveness[(controlling_state==1)] = self._susceptiveness_prob\n",
    "        infectiveness[(controlling_state==1)] = self._infectiveness_prob\n",
    "        return states"
   ]
  },
  {
   "cell_type": "code",
   "execution_count": 6,
   "metadata": {},
   "outputs": [],
   "source": [
    "class Friends_SusceptivenessInfectiveness(torch.nn.Module):\n",
    "    def __init__(self, contact_net, friends_state_name, num_friends, susceptiveness_name, infectiveness_name, susceptiveness_prob, infectiveness_prob):\n",
    "        super(Friends_SusceptivenessInfectiveness, self).__init__()\n",
    "        self._contact_net = contact_net\n",
    "        self._susceptiveness_prob = susceptiveness_prob\n",
    "        self._infectiveness_prob = infectiveness_prob\n",
    "        self._num_friends = num_friends # minimum number of friends in friends_state needed for a person's infectiveness and susceptiveness to change\n",
    "        \n",
    "        # if enough friends are in state friends_state, a person's infectiveness and susceptiveness will change\n",
    "        self._states_names = {\"friends_state\": friends_state_name, \"susceptiveness\": susceptiveness_name, \"infectiveness\": infectiveness_name}\n",
    "        \n",
    "    def forward(self, states):\n",
    "        friends_state = states[self._states_names['friends_state']]\n",
    "        susceptiveness = states[self._states_names['susceptiveness']]\n",
    "        infectiveness = states[self._states_names['infectiveness']]\n",
    "        \n",
    "        friends_infected = self._contact_net.mm(friends_state.unsqueeze(dim=1))\n",
    "        enough_friends_infected = (friends_infected.squeeze() >= self._num_friends)\n",
    "        susceptiveness[enough_friends_infected] = self._susceptiveness_prob\n",
    "        infectiveness[enough_friends_infected] = self._infectiveness_prob\n",
    "        return states"
   ]
  },
  {
   "cell_type": "code",
   "execution_count": 20,
   "metadata": {
    "id": "Oa8Tn3r23XuP"
   },
   "outputs": [],
   "source": [
    "n = 2000\n",
    "pinf_bio = 0.2\n",
    "psus_bio = 0.2\n",
    "pinf_nomask_bio = 0.4\n",
    "psus_nomask_bio = 0.4\n",
    "recover_time_bio = 9.3\n",
    "I_name_bio = \"infected_covid\"\n",
    "R_name_bio = \"remaining_recovery_time\"\n",
    "susceptiveness_name_bio = \"susceptiveness_covid\"\n",
    "infectiveness_name_bio = \"infectiveness_covid\"\n",
    "recover_time_name_bio = \"recovery_times_time\"\n",
    "\n",
    "pinf_socio = 0.4\n",
    "psus_socio = 0.4\n",
    "recover_time_socio = 5 \n",
    "critical_number_friends = 3\n",
    "pinf_friendsinfected_socio = 0.2\n",
    "psus_friendsinfected_socio = 0.2\n",
    "I_name_socio = \"antimask\"\n",
    "R_name_socio = \"remaining_antimask_time\"\n",
    "susceptiveness_name_socio = \"persuadability\"\n",
    "infectiveness_name_socio = \"persuasiveness\"\n",
    "recover_time_name_socio = \"lifetimes_staying_persuaded\"\n",
    "\n",
    "maxt = 75\n",
    "\n",
    "def initializations(pinf, psus, avg_recover_time, I_name, R_name, susceptiveness_name, infectiveness_name, recover_time_name):\n",
    "    recover_time = F.relu(torch.distributions.normal.Normal(avg_recover_time,2).rsample((n,)).to(device))\n",
    "    I = torch.zeros(n).to(device)\n",
    "    R = torch.ones(n).to(device) * math.inf\n",
    "    seed = random.randint(0, n-1)\n",
    "    I[seed]=1\n",
    "    susceptiveness = torch.ones(n).to(device)*psus\n",
    "    infectiveness = torch.ones(n).to(device)*pinf\n",
    "    return  {I_name: I, R_name: R, recover_time_name: recover_time, susceptiveness_name: susceptiveness, infectiveness_name: infectiveness}            "
   ]
  },
  {
   "cell_type": "code",
   "execution_count": 21,
   "metadata": {},
   "outputs": [],
   "source": [
    "m_bio = 10*n # number of connections in contact matrix\n",
    "idx = torch.randint(n,(2,m_bio)).to(device)\n",
    "con_bio = torch.sparse.FloatTensor(idx,torch.ones(m_bio).to(device),torch.Size([n,n])).to(device)\n",
    "\n",
    "m_socio = 10*n\n",
    "idx = torch.randint(n,(2,m_socio)).to(device)\n",
    "con_socio = torch.sparse.FloatTensor(idx,torch.ones(m_socio).to(device),torch.Size([n,n])).to(device)"
   ]
  },
  {
   "cell_type": "code",
   "execution_count": 22,
   "metadata": {
    "id": "S8ABbI5Q3XuQ"
   },
   "outputs": [],
   "source": [
    "def sim(repeats=1):\n",
    "    with torch.no_grad():\n",
    "        final_log = []\n",
    "        \n",
    "        for _ in range(repeats):\n",
    "            states = initializations(pinf=pinf_bio, psus=psus_bio, avg_recover_time=recover_time_bio, recover_time_name=recover_time_name_bio, I_name=I_name_bio, R_name=R_name_bio, susceptiveness_name=susceptiveness_name_bio, infectiveness_name=infectiveness_name_bio) # bio states\n",
    "            states.update(initializations(pinf=pinf_socio, psus=psus_socio, avg_recover_time=recover_time_socio, recover_time_name=recover_time_name_socio, I_name=I_name_socio, R_name=R_name_socio, susceptiveness_name=susceptiveness_name_socio, infectiveness_name=infectiveness_name_socio)) # adding social states\n",
    "            assert len(states) == 10 # check against duplicate names\n",
    "            \n",
    "            si_bio = S_I(contact_net=con_bio, pinf=pinf_bio, I_name=I_name_bio, susceptiveness_name=susceptiveness_name_bio, infectiveness_name=infectiveness_name_bio)\n",
    "            si_socio = S_I(contact_net=con_socio, pinf=pinf_socio, I_name=I_name_socio, susceptiveness_name=susceptiveness_name_socio, infectiveness_name=infectiveness_name_socio)\n",
    "            is_socio = I_S(contact_net=con_socio, I_name=I_name_socio, R_name=R_name_socio, recover_time_name=recover_time_name_socio)\n",
    "            sis_socio = torch.nn.Sequential(si_socio, is_socio)\n",
    "            socio_to_bio = ControllingState_SusceptivenessInfectiveness(controlling_state_name=I_name_socio, susceptiveness_name=susceptiveness_name_bio, infectiveness_name=infectiveness_name_bio, susceptiveness_prob=psus_nomask_bio, infectiveness_prob=pinf_nomask_bio)\n",
    "            bio_to_socio = Friends_SusceptivenessInfectiveness(contact_net=con_bio, num_friends=critical_number_friends, friends_state_name=I_name_bio, susceptiveness_name=susceptiveness_name_bio, infectiveness_name=infectiveness_name_bio, susceptiveness_prob=psus_friendsinfected_socio, infectiveness_prob=pinf_friendsinfected_socio)\n",
    "            si_bio_sis_socio = torch.nn.Sequential(si_bio, sis_socio, socio_to_bio)\n",
    "            \n",
    "            # use below if want bio to social connection as well\n",
    "            #si_bio_sis_socio = torch.nn.Sequential(si_bio, sis_socio, socio_to_bio, bio_to_socio)\n",
    "            \n",
    "            log = []\n",
    "            for _ in range(maxt):\n",
    "                states = si_bio_sis_socio(states)\n",
    "                log.append(torch.stack((states[I_name_bio], states[I_name_socio])))\n",
    "                \n",
    "            final_log.append(torch.stack(log))\n",
    "        final_log = torch.stack(final_log)\n",
    "    return final_log"
   ]
  },
  {
   "cell_type": "code",
   "execution_count": 23,
   "metadata": {},
   "outputs": [
    {
     "name": "stdout",
     "output_type": "stream",
     "text": [
      "torch.Size([15, 75, 2])\n"
     ]
    },
    {
     "data": {
      "image/png": "[encoded data removed]",
      "text/plain": [
       "<Figure size 720x216 with 1 Axes>"
      ]
     },
     "metadata": {
      "needs_background": "light"
     },
     "output_type": "display_data"
    }
   ],
   "source": [
    "colors = [(\"pink\",I_name_bio), (\"orange\",I_name_socio)]\n",
    "age_sizes = [n]\n",
    "\n",
    "log = sim(15)\n",
    "plot(log, colors, age_sizes, by_age=False, title=\"bio SI, socio SIS - baseline\")"
   ]
  },
  {
   "cell_type": "code",
   "execution_count": 25,
   "metadata": {},
   "outputs": [
    {
     "name": "stdout",
     "output_type": "stream",
     "text": [
      "torch.Size([15, 75, 2])\n"
     ]
    },
    {
     "data": {
      "image/png": "[encoded data removed]",
      "text/plain": [
       "<Figure size 720x216 with 1 Axes>"
      ]
     },
     "metadata": {
      "needs_background": "light"
     },
     "output_type": "display_data"
    }
   ],
   "source": [
    "psus_nomask_bio = 0.7\n",
    "pinf_nomask_bio = 0.7\n",
    "log = sim(15)\n",
    "plot(log, colors, age_sizes, by_age=False, title=\"bio SI, socio SIS - covid more contagious with no mask\")"
   ]
  },
  {
   "cell_type": "code",
   "execution_count": 30,
   "metadata": {},
   "outputs": [
    {
     "name": "stdout",
     "output_type": "stream",
     "text": [
      "44.511980056762695\n"
     ]
    }
   ],
   "source": [
    "T = time.time()\n",
    "log = sim(10)\n",
    "print(time.time()-T)"
   ]
  },
  {
   "cell_type": "code",
   "execution_count": null,
   "metadata": {},
   "outputs": [],
   "source": []
  }
 ],
 "metadata": {
  "accelerator": "GPU",
  "colab": {
   "collapsed_sections": [],
   "name": "SI_bio-SIS_social-mask.ipynb",
   "provenance": []
  },
  "kernelspec": {
   "display_name": "Python 3",
   "language": "python",
   "name": "python3"
  },
  "language_info": {
   "codemirror_mode": {
    "name": "ipython",
    "version": 3
   },
   "file_extension": ".py",
   "mimetype": "text/x-python",
   "name": "python",
   "nbconvert_exporter": "python",
   "pygments_lexer": "ipython3",
   "version": "3.8.8"
  }
 },
 "nbformat": 4,
 "nbformat_minor": 1
}
