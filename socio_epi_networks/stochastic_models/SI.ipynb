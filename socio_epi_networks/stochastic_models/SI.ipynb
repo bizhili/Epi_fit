{
 "cells": [
  {
   "cell_type": "code",
   "execution_count": 1,
   "metadata": {},
   "outputs": [],
   "source": [
    "import torch\n",
    "import torch.nn.functional as F\n",
    "import matplotlib.pyplot as plt\n",
    "import time\n",
    "from graphing_utils import *\n",
    "import sys\n",
    "\n",
    "device = \"cuda\" if torch.cuda.is_available() else \"cpu\"\n",
    "\n",
    "class SI_fully_mixed:\n",
    "    def __init__(self,n,seed=[0],pcon=0.01,pinf=0.1):\n",
    "        self._S = torch.ones((n,1),device=device)\n",
    "        self._I = torch.zeros((n,1),device=device)\n",
    "        self._S[0,seed]=0\n",
    "        self._I[0,seed]=1\n",
    "        self._con = (-torch.eye(n,device=device)+1)*pcon\n",
    "        self._pinf = pinf\n",
    "        self._n = n\n",
    "        \n",
    "        self._i = 0\n",
    "        self._stats = []\n",
    "    \n",
    "    def step(self):\n",
    "        dI = torch.mm(self._I,self._con)*self._pinf\n",
    "        dI = (torch.rand(self._n,device=device)<dI).float()\n",
    "        self._I = torch.max(self._I,dI)\n",
    "        self._S -= dI\n",
    "        self._S = F.relu(self._S)\n",
    "        \n",
    "        self._i+=1\n",
    "        self._stats.append((self._S.sum(),self._I.sum()))\n",
    "        \n",
    "        return self._stats[self._i-1]\n",
    "\n",
    "class SI_erdos_renyi(torch.nn.Module):\n",
    "    #child class of torch.nn.Module\n",
    "    def __init__(self,pinf=0.1, contact_net=None, maxt=150):\n",
    "        super(SI_erdos_renyi, self).__init__()\n",
    "        self._contact_net = contact_net\n",
    "        self._pinf = pinf\n",
    "        self._maxt = maxt\n",
    "        #number of whole people\n",
    "        self._n = self._contact_net.size()[0]\n",
    "        \n",
    "    def step(self, population):      \n",
    "        S,I = population\n",
    "        I = I.unsqueeze(dim=1)\n",
    "        #dI= A*I, a people contact with dI infected people \n",
    "        dI = self._contact_net.mm(I)\n",
    "        I = I.squeeze()\n",
    "        dI = dI.squeeze()\n",
    "        #dI= A*I*pinf\n",
    "        dI = dI*self._pinf\n",
    "        #uniform distribution random on the interval (0,1), similar with sample operation\n",
    "        dI = torch.rand(self._n).to(device)<dI\n",
    "        dI = dI.float()\n",
    "        #I= I+dI\n",
    "        I = torch.max(I,dI)\n",
    "        #S= S-dI\n",
    "        S -= dI\n",
    "        #keep the numerical stable ?\n",
    "        S = F.relu(S)\n",
    "        return torch.stack((S,I))\n",
    "    #also () method\n",
    "    def forward(self, population):\n",
    "        log = []\n",
    "        for i in range(self._maxt):\n",
    "            #simulate one time\n",
    "            population = self.step(population)\n",
    "            log.append(torch.stack((\n",
    "            population[0],\n",
    "            population[1]\n",
    "            )))\n",
    "        log = torch.stack(log)\n",
    "        return log"
   ]
  },
  {
   "cell_type": "code",
   "execution_count": 2,
   "metadata": {},
   "outputs": [],
   "source": [
    "'''\n",
    "Equal to create ER random network with 3 edges per node\n",
    "'''\n",
    "n=1000000\n",
    "#memory usage: 2000000*4/1024/1024*3 aprox equal 22.8MB\n",
    "#n is contact number (edge number)\n",
    "m = 3*n\n",
    "#every 1 cost 30 MB, base 26MB, initial 568MB\n",
    "#create a 2*m random integer matrix, smaller than n, edge pair relation\n",
    "idx = torch.randint(n,(2,m))\n",
    "#create n*n adjacency contact matrix, 2000000*2000000, float32\n",
    "#s list, t list, value list\n",
    "con = torch.sparse.FloatTensor(idx,torch.ones(m),torch.Size([n,n])).to(device)"
   ]
  },
  {
   "cell_type": "code",
   "execution_count": 3,
   "metadata": {},
   "outputs": [],
   "source": [
    "def sim(con, pinf=0.1, maxt=150, repeats=1):\n",
    "    S = torch.ones(n).to(device)\n",
    "    I = torch.zeros(n).to(device)\n",
    "    #let first people infected\n",
    "    S[0] = 0\n",
    "    I[0] = 1\n",
    "    #pack\n",
    "    population = torch.stack((S,I))\n",
    "    \n",
    "    with torch.no_grad():\n",
    "        #create class\n",
    "        si = SI_erdos_renyi(contact_net=con, pinf=pinf, maxt=maxt).to(device)\n",
    "        #si() run maxt times\n",
    "        log = [si(population) for i in range(repeats)]\n",
    "        log = torch.stack(log)\n",
    "    return log"
   ]
  },
  {
   "cell_type": "code",
   "execution_count": 8,
   "metadata": {},
   "outputs": [
    {
     "name": "stdout",
     "output_type": "stream",
     "text": [
      "1.339158535003662\n"
     ]
    }
   ],
   "source": [
    "T = time.time()\n",
    "log = sim(con)\n",
    "print(time.time()-T)"
   ]
  },
  {
   "cell_type": "code",
   "execution_count": 11,
   "metadata": {},
   "outputs": [
    {
     "data": {
      "text/plain": [
       "2858"
      ]
     },
     "execution_count": 11,
     "metadata": {},
     "output_type": "execute_result"
    }
   ],
   "source": [
    "3484-626"
   ]
  },
  {
   "cell_type": "code",
   "execution_count": 12,
   "metadata": {},
   "outputs": [
    {
     "name": "stdout",
     "output_type": "stream",
     "text": [
      "torch.Size([1, 150, 2, 1000000])\n",
      "300000048\n"
     ]
    },
    {
     "data": {
      "text/plain": [
       "286.102294921875"
      ]
     },
     "execution_count": 12,
     "metadata": {},
     "output_type": "execute_result"
    }
   ],
   "source": [
    "print(log.size())\n",
    "print(sys.getsizeof(log.storage()))\n",
    "1*150*2*1000000/1024/1024\n"
   ]
  },
  {
   "cell_type": "code",
   "execution_count": 7,
   "metadata": {},
   "outputs": [],
   "source": [
    "#log, 1, 150, 2, 2000000, bool/float 32\n",
    "del log\n",
    "torch.cuda.empty_cache()"
   ]
  },
  {
   "cell_type": "code",
   "execution_count": 7,
   "metadata": {},
   "outputs": [
    {
     "data": {
      "image/png": "[encoded data removed]",
      "text/plain": [
       "<Figure size 1000x300 with 1 Axes>"
      ]
     },
     "metadata": {},
     "output_type": "display_data"
    }
   ],
   "source": [
    "colors = [(\"green\",\"S\"), (\"red\",\"I\")]\n",
    "age_sizes = [n]\n",
    "plot(log, colors, age_sizes, by_age=False)"
   ]
  }
 ],
 "metadata": {
  "kernelspec": {
   "display_name": "tf",
   "language": "python",
   "name": "python3"
  },
  "language_info": {
   "codemirror_mode": {
    "name": "ipython",
    "version": 3
   },
   "file_extension": ".py",
   "mimetype": "text/x-python",
   "name": "python",
   "nbconvert_exporter": "python",
   "pygments_lexer": "ipython3",
   "version": "3.9.15"
  },
  "vscode": {
   "interpreter": {
    "hash": "ee26c3e2e6b390411cfb22f163568d3cecfb3e5d87f8f4e1237c82aa2786d359"
   }
  }
 },
 "nbformat": 4,
 "nbformat_minor": 2
}
