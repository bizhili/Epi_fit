{
 "cells": [
  {
   "cell_type": "code",
   "execution_count": 1,
   "metadata": {},
   "outputs": [],
   "source": [
    "import torch\n",
    "import pandas as pd\n",
    "import random\n",
    "from epifit.network_generation import generate_random_network\n",
    "from epifit.graphing_utils import *\n",
    "from matplotlib import pyplot as plt\n",
    "\n",
    "device = \"cuda\" if torch.cuda.is_available() else \"cpu\"\n",
    "\n",
    "def Population(n:int, device= \"cpu\"):\n",
    "  initial_population = { #a columnar DB somewhat reminds the Pandas DataFrame \n",
    "      \"S\":torch.ones(n).to(device),\n",
    "      \"E\":torch.zeros(n).to(device),\n",
    "      \"I\":torch.zeros(n).to(device),\n",
    "      \"R\":torch.zeros(n).to(device),\n",
    "  }\n",
    "  initial_population[\"S\"][0]=0 #first one infective\n",
    "  initial_population[\"I\"][0]=1 #first one infective\n",
    "  return initial_population\n"
   ]
  },
  {
   "cell_type": "code",
   "execution_count": 74,
   "metadata": {},
   "outputs": [
    {
     "name": "stdout",
     "output_type": "stream",
     "text": [
      "tensor([0.5515, 0.1090, 0.2341, 0.8638, 0.9627, 0.8279, 0.1373, 0.4978, 0.9486,\n",
      "        0.9051, 0.4584, 0.4649, 0.3967, 0.3520, 0.3091, 0.1010, 0.9783, 0.5234,\n",
      "        0.6518, 0.5329], device='cuda:0')\n"
     ]
    }
   ],
   "source": [
    "n= 20\n",
    "avgDegree= 8\n",
    "\n",
    "graph=nx.dense_gnm_random_graph(n, n*avgDegree)\n",
    "graph=nx.to_numpy_array(graph)\n",
    "ISNet = torch.FloatTensor(graph).to(device)\n",
    "\n",
    "population= Population(n, device=device)\n",
    "\n",
    "_N= ISNet.size()[0]\n",
    "_IS= ISNet\n",
    "_EE= torch.eye(_N).to(device)\n",
    "_II= torch.eye(_N).to(device)\n",
    "_RR= torch.eye(_N).to(device)\n",
    "_state= torch.stack((population[\"S\"], population[\"E\"], population[\"I\"], population[\"R\"]))\n",
    "_L= torch.zeros_like(_state, device=device)\n",
    "_ps= torch.tensor([[0, 0.4, 0, 0],\n",
    "                   [0, 0, 0.2, 0],\n",
    "                   [0, 0, 0, 0.2],\n",
    "                   [0.2, 0, 0, 0]], device=device)\n",
    "\n",
    "\n",
    "_L[0]= _state[0]*torch.matmul(_IS, _state[2])\n",
    "_L[1]= torch.matmul(_state[1], _EE)\n",
    "_L[2]= torch.matmul(_state[2], _II)\n",
    "_L[3]= torch.matmul(_state[3], _RR)\n",
    "\n",
    "_P= 1- torch.exp(torch.matmul(torch.log(1 - _ps.T), _L))\n",
    "_stable_prob= 1- torch.sum(_P, 0)\n",
    "_P= _P+ _state*_stable_prob\n",
    "_U= torch.rand(_N).to(device)\n",
    "\n",
    "for i in range(4):\n",
    "    _U= _U- _P[i]\n",
    "    _state[i]= _U<0\n",
    "    _U= _U+_state[i]\n",
    "    pass\n"
   ]
  },
  {
   "cell_type": "code",
   "execution_count": 75,
   "metadata": {},
   "outputs": [
    {
     "name": "stdout",
     "output_type": "stream",
     "text": [
      "tensor([[0., 1., 1., 1., 0., 0., 1., 1., 0., 0., 1., 1., 1., 1., 1., 1., 1., 1.,\n",
      "         0., 1.],\n",
      "        [0., 0., 0., 0., 1., 1., 0., 0., 1., 1., 0., 0., 0., 0., 0., 0., 0., 0.,\n",
      "         1., 0.],\n",
      "        [1., 0., 0., 0., 0., 0., 0., 0., 0., 0., 0., 0., 0., 0., 0., 0., 0., 0.,\n",
      "         0., 0.],\n",
      "        [0., 0., 0., 0., 0., 0., 0., 0., 0., 0., 0., 0., 0., 0., 0., 0., 0., 0.,\n",
      "         0., 0.]], device='cuda:0')\n",
      "tensor([[0.0000, 0.6000, 0.6000, 1.0000, 0.6000, 0.6000, 0.6000, 0.6000, 0.6000,\n",
      "         0.6000, 0.6000, 0.6000, 1.0000, 1.0000, 1.0000, 0.6000, 1.0000, 0.6000,\n",
      "         0.6000, 0.6000],\n",
      "        [0.0000, 0.4000, 0.4000, 0.0000, 0.4000, 0.4000, 0.4000, 0.4000, 0.4000,\n",
      "         0.4000, 0.4000, 0.4000, 0.0000, 0.0000, 0.0000, 0.4000, 0.0000, 0.4000,\n",
      "         0.4000, 0.4000],\n",
      "        [0.8000, 0.0000, 0.0000, 0.0000, 0.0000, 0.0000, 0.0000, 0.0000, 0.0000,\n",
      "         0.0000, 0.0000, 0.0000, 0.0000, 0.0000, 0.0000, 0.0000, 0.0000, 0.0000,\n",
      "         0.0000, 0.0000],\n",
      "        [0.2000, 0.0000, 0.0000, 0.0000, 0.0000, 0.0000, 0.0000, 0.0000, 0.0000,\n",
      "         0.0000, 0.0000, 0.0000, 0.0000, 0.0000, 0.0000, 0.0000, 0.0000, 0.0000,\n",
      "         0.0000, 0.0000]], device='cuda:0')\n"
     ]
    }
   ],
   "source": [
    "print(_state)\n",
    "print(_P)"
   ]
  }
 ],
 "metadata": {
  "kernelspec": {
   "display_name": "tf",
   "language": "python",
   "name": "python3"
  },
  "language_info": {
   "codemirror_mode": {
    "name": "ipython",
    "version": 3
   },
   "file_extension": ".py",
   "mimetype": "text/x-python",
   "name": "python",
   "nbconvert_exporter": "python",
   "pygments_lexer": "ipython3",
   "version": "3.9.15"
  },
  "orig_nbformat": 4
 },
 "nbformat": 4,
 "nbformat_minor": 2
}
