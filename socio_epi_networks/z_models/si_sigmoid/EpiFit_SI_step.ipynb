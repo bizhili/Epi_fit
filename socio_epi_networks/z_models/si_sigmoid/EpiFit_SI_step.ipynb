{
 "cells": [
  {
   "cell_type": "code",
   "execution_count": 4,
   "metadata": {},
   "outputs": [],
   "source": [
    "import torch\n",
    "import pandas as pd\n",
    "import random\n",
    "from epifit.network_generation import generate_random_network\n",
    "from epifit.graphing_utils import *\n",
    "from matplotlib import pyplot as plt\n",
    "#from epifit.transitions import S_I\n",
    "\n",
    "device = \"cuda\" if torch.cuda.is_available() else \"cpu\"\n",
    "\n",
    "def Population(n:int, device= \"cpu\"):\n",
    "  initial_population = { #a columnar DB somewhat reminds the Pandas DataFrame \n",
    "      \"I\":torch.zeros(n).to(device),\n",
    "      \"susceptiveness\":torch.ones(n).to(device).requires_grad_(True)*1.0,\n",
    "      \"infectiveness\":torch.ones(n).to(device).requires_grad_(True)*1.0\n",
    "  }\n",
    "  initial_population[\"I\"][0]=1 #first one infective\n",
    "  return initial_population\n",
    "\n",
    "def print_model_parameters(model):\n",
    "    for name, parameter in model.named_parameters():\n",
    "        print('name           : {}'.format(name))\n",
    "        print('parameter      : {}'.format(parameter.item()))\n",
    "        print('learnable      : {}'.format(parameter.requires_grad))\n",
    "        print('parameter.shape: {}'.format(parameter.shape))\n",
    "        print('parameter.grad: {}'.format(parameter.grad))\n",
    "        print('---------------------------------')\n",
    "\n",
    "class SI_dense(torch.nn.Module):\n",
    "    \"\"\"\n",
    "    Stochastic individual base (S)usceptible-(I)nfective transition. \n",
    "    The infective agent propagates through an unweighted contact network \n",
    "    stored as a dense Tensor.     \n",
    "    \"\"\"\n",
    "    def __init__(self, contact_net, pinf, I_name, susceptiveness_name, infectiveness_name, device, samples=[], step_fun=\"step\", start=0):\n",
    "        super(SI_dense,self).__init__()\n",
    "        self._contact_net = contact_net\n",
    "        self._pinf = torch.nn.parameter.Parameter(torch.Tensor([pinf]).to(device)) # set it as trainnable\n",
    "        self._n = contact_net.size()[0]\n",
    "        self._t = 0\n",
    "        self._start = start\n",
    "        self._states_names = {'I': I_name, 'susceptiveness': susceptiveness_name, 'infectiveness': infectiveness_name}\n",
    "        self._step_fun=step_fun \n",
    "        self._samples= samples\n",
    "        \n",
    "    def forward(self, states):\n",
    "        self._t+=1\n",
    "        if self._t >= self._start:\n",
    "            I = states[self._states_names['I']] # boolean state of being infected\n",
    "            susceptiveness = states[self._states_names['susceptiveness']] # floating point, number between 0 and 1 means probability of being infected\n",
    "            infectiveness = states[self._states_names['infectiveness']] # floating point, number between 0 and 1 means probability of infecting another\n",
    "            \n",
    "            susceptible = (I==0).float()\n",
    "            susceptible*=susceptiveness\n",
    "            susceptible = susceptible.unsqueeze(dim=1)\n",
    "            infective=infectiveness*I\n",
    "            infective=infective*self._pinf\n",
    "            infective = infective.unsqueeze(dim=0)\n",
    "\n",
    "            con = self._contact_net*infective*susceptible#n*n, 1*n (row multiply), n*1 (column multiply)\n",
    "            #why do like this?\n",
    "            con = torch.log(1 - con)     \n",
    "            dI = 1 - torch.exp(con.mm(torch.ones(self._n).to(device).unsqueeze(dim=1)).squeeze()) # probability of being infected that day\n",
    "            #print(dI)\n",
    "            dIsample= self.get_random_from_samples()\n",
    "\n",
    "            #dI = torch.rand(self._n, requires_grad=True).to(device) < dI \n",
    "            #random will effect the result, less than operation will lose gradient\n",
    "            if self._step_fun==\"sigmoid\":\n",
    "                activeM= torch.nn.Sigmoid()\n",
    "                dI= activeM(1000*(dI-dIsample))\n",
    "            elif self._step_fun==\"step\":\n",
    "                dI= dI>dIsample\n",
    "                \n",
    "            I = torch.max(I, dI) # got infected\n",
    "\n",
    "            states[self._states_names['I']] = I\n",
    "\n",
    "        return states\n",
    "    def get_random_from_samples(self):\n",
    "        return self._samples[self._t-1]"
   ]
  },
  {
   "cell_type": "code",
   "execution_count": 5,
   "metadata": {},
   "outputs": [],
   "source": [
    "def sim(time_horizon, population, model):\n",
    "  log = [population['I']]\n",
    "  for i in range(time_horizon):\n",
    "    population = model(population)\n",
    "    log.append(population['I'])  \n",
    "  log = torch.stack(log)\n",
    "  log = log.unsqueeze(dim=1)\n",
    "  log = log.unsqueeze(dim=0)\n",
    "  return log"
   ]
  },
  {
   "cell_type": "code",
   "execution_count": 6,
   "metadata": {},
   "outputs": [
    {
     "name": "stdout",
     "output_type": "stream",
     "text": [
      "tensor(10000., device='cuda:0')\n"
     ]
    },
    {
     "data": {
      "text/plain": [
       "<matplotlib.legend.Legend at 0x7fa4d4c9cb50>"
      ]
     },
     "execution_count": 6,
     "metadata": {},
     "output_type": "execute_result"
    },
    {
     "data": {
      "image/png": "[encoded data removed]",
      "text/plain": [
       "<Figure size 640x480 with 1 Axes>"
      ]
     },
     "metadata": {},
     "output_type": "display_data"
    }
   ],
   "source": [
    "n = 1000 # population\n",
    "avgDegree = 10  #every individual will have 10 contacts on average\n",
    "pinf = 0.2  #it is the first parameter we are going to fit\n",
    "time_horizon = 20\n",
    "#create  dense contacts\n",
    "contacts = generate_random_network(n, avgDegree)\n",
    "contacts = contacts.coalesce()#make pairs unique\n",
    "print(contacts.values().sum())\n",
    "contacts = contacts.to_dense()\n",
    "contacts = contacts.requires_grad_(True)\n",
    "#random to be used\n",
    "dIsamples=[]\n",
    "for _ in range(time_horizon):\n",
    "    dIsamples.append(torch.rand(n).to(device))\n",
    "#si\n",
    "si_step =     SI_dense(contacts, pinf=pinf, I_name=\"I\",susceptiveness_name=\"susceptiveness\",  infectiveness_name=\"infectiveness\", \n",
    "                  step_fun=\"step\", samples=dIsamples, device=device)\n",
    "si_sigm =     SI_dense(contacts, pinf=pinf, I_name=\"I\",susceptiveness_name=\"susceptiveness\",  infectiveness_name=\"infectiveness\", \n",
    "                  step_fun=\"sigmoid\", samples=dIsamples, device=device)\n",
    "#generate real data\n",
    "si_step_result= None\n",
    "si_sigm_result= None\n",
    "with torch.no_grad():\n",
    "    population = Population(n, device=device)\n",
    "    si_step_result = sim(time_horizon,population,si_step)\n",
    "with torch.no_grad():\n",
    "    population = Population(n, device=device)\n",
    "    si_sigm_result = sim(time_horizon,population,si_sigm)\n",
    "colors = [(\"red\", \"step\"), (\"green\", \"sigmoid\")]\n",
    "age_sizes = [n]\n",
    "si_step_result= si_step_result.squeeze()\n",
    "si_sigm_result= si_sigm_result.squeeze()\n",
    "plt.plot(si_step_result.sum(dim=1).cpu(), label='step')\n",
    "plt.plot(si_sigm_result.sum(dim=1).cpu(), label='sigmoid 1000')\n",
    "plt.xlabel(\"Time line\")\n",
    "plt.ylabel(\"people infected\")\n",
    "plt.legend()\n"
   ]
  }
 ],
 "metadata": {
  "kernelspec": {
   "display_name": "tf",
   "language": "python",
   "name": "python3"
  },
  "language_info": {
   "codemirror_mode": {
    "name": "ipython",
    "version": 3
   },
   "file_extension": ".py",
   "mimetype": "text/x-python",
   "name": "python",
   "nbconvert_exporter": "python",
   "pygments_lexer": "ipython3",
   "version": "3.9.15"
  },
  "orig_nbformat": 4,
  "vscode": {
   "interpreter": {
    "hash": "ee26c3e2e6b390411cfb22f163568d3cecfb3e5d87f8f4e1237c82aa2786d359"
   }
  }
 },
 "nbformat": 4,
 "nbformat_minor": 2
}
