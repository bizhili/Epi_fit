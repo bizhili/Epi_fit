{
 "cells": [
  {
   "cell_type": "code",
   "execution_count": 2,
   "metadata": {},
   "outputs": [
    {
     "name": "stdout",
     "output_type": "stream",
     "text": [
      "Original Tensor:\n",
      "tensor([[0.7628, 0.0232, 0.3644, 0.3687, 0.8386],\n",
      "        [0.5282, 0.4831, 0.0156, 0.9751, 0.9648],\n",
      "        [0.4933, 0.4662, 0.1268, 0.6236, 0.7526],\n",
      "        [0.0400, 0.0138, 0.4674, 0.9147, 0.5295],\n",
      "        [0.1839, 0.5520, 0.4760, 0.2755, 0.8051]])\n",
      "\n",
      "Binary Tensor:\n",
      "tensor([[1, 0, 0, 1, 1],\n",
      "        [1, 0, 0, 1, 1],\n",
      "        [0, 0, 1, 1, 1],\n",
      "        [0, 0, 1, 1, 1],\n",
      "        [0, 1, 0, 0, 0]])\n"
     ]
    }
   ],
   "source": [
    "import torch\n",
    "\n",
    "# Create a PyTorch tensor with values between 0 and 1\n",
    "tensor = torch.rand(5, 5)\n",
    "\n",
    "# Randomly sample the tensor elements to binary values (0 or 1)\n",
    "binary_tensor = torch.bernoulli(tensor).long()\n",
    "\n",
    "print(\"Original Tensor:\")\n",
    "print(tensor)\n",
    "\n",
    "print(\"\\nBinary Tensor:\")\n",
    "print(binary_tensor)\n"
   ]
  }
 ],
 "metadata": {
  "kernelspec": {
   "display_name": "tf",
   "language": "python",
   "name": "python3"
  },
  "language_info": {
   "codemirror_mode": {
    "name": "ipython",
    "version": 3
   },
   "file_extension": ".py",
   "mimetype": "text/x-python",
   "name": "python",
   "nbconvert_exporter": "python",
   "pygments_lexer": "ipython3",
   "version": "3.9.15"
  },
  "orig_nbformat": 4
 },
 "nbformat": 4,
 "nbformat_minor": 2
}
