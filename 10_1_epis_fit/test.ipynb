{
 "cells": [
  {
   "cell_type": "code",
   "execution_count": 27,
   "metadata": {},
   "outputs": [
    {
     "name": "stdout",
     "output_type": "stream",
     "text": [
      "tensor([[0.0000, 0.2700, 0.2700, 0.2700],\n",
      "        [0.0000, 0.0000, 0.0000, 0.0000],\n",
      "        [0.0000, 0.0000, 0.0000, 0.0000],\n",
      "        [0.0000, 0.0000, 0.0000, 0.0000]])\n",
      "tensor([[0.9000],\n",
      "        [0.0000],\n",
      "        [0.0000],\n",
      "        [0.0000]])\n",
      "tensor([[0.0000, 0.3000, 0.3000, 0.3000]])\n"
     ]
    }
   ],
   "source": [
    "import torch\n",
    "\n",
    "device = \"cpu\"\n",
    "\n",
    "A= torch.tensor([[1, 2, 4],\n",
    "                 [1, 3, 9],\n",
    "                 [1, 4, 16]], device=device)\n",
    "a= torch.tensor([0.9, 0, 0, 0], device=device)\n",
    "b= torch.tensor([0, 0.3, 0.3, 0.3], device=device)\n",
    "#0.9, 0, 0, 0\n",
    "#0, 0.3, 0.3, 0.3\n",
    "a= a[:, None]\n",
    "b= b[None, :]\n",
    "print(a*b)\n",
    "print(a)\n",
    "print(b)"
   ]
  }
 ],
 "metadata": {
  "kernelspec": {
   "display_name": "tf",
   "language": "python",
   "name": "python3"
  },
  "language_info": {
   "codemirror_mode": {
    "name": "ipython",
    "version": 3
   },
   "file_extension": ".py",
   "mimetype": "text/x-python",
   "name": "python",
   "nbconvert_exporter": "python",
   "pygments_lexer": "ipython3",
   "version": "3.9.15"
  },
  "orig_nbformat": 4
 },
 "nbformat": 4,
 "nbformat_minor": 2
}
