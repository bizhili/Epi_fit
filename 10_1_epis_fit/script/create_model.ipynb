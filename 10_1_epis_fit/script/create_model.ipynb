{
 "cells": [
  {
   "cell_type": "code",
   "execution_count": 1,
   "metadata": {},
   "outputs": [],
   "source": [
    "import sys\n",
    "sys.path.append('../')\n",
    "import graph.random_graph as random_graph\n",
    "import util.create_population as create_population\n",
    "import core_nn.pure_fit_model as pure_fit_model\n",
    "\n",
    "import torch\n",
    "from tqdm import tqdm\n",
    "from matplotlib import pyplot as plt\n",
    "import random\n",
    "\n",
    "device = \"cuda\" if torch.cuda.is_available() else \"cpu\""
   ]
  },
  {
   "cell_type": "code",
   "execution_count": 2,
   "metadata": {},
   "outputs": [],
   "source": [
    "class general_EPIs_dense(torch.nn.Module):\n",
    "    def __init__(self, contact, psMatrices, crossImmMatrix, Ts, train=False, sampleAsState=False, device=\"cpu\"):\n",
    "        super(general_EPIs_dense, self).__init__()\n",
    "        self._n= contact.size()[1]\n",
    "        self._k= psMatrices.size()[0]\n",
    "        self._contact= contact[None, None, ...]\n",
    "        self._psMatrices= psMatrices\n",
    "        self._crossImmMatrix= crossImmMatrix\n",
    "        self._train= train\n",
    "        self._device= device\n",
    "        self._sampleAsState= sampleAsState\n",
    "        self._Ts= Ts[None, ...]\n",
    "        self._mySig = torch.nn.Sigmoid()\n",
    "        self._myrelu= torch.nn.ReLU()\n",
    "        self._mysoftmax= torch.nn.Softmax(dim= 2)\n",
    "        self._trust = torch.tensor([[100]*self._k], device=self._device) \n",
    "        self._sampleT= None\n",
    "        if train==True:\n",
    "            self._psMatrices= torch.nn.Parameter(self._psMatrices)\n",
    "            self._crossImmMatrix= torch.nn.Parameter(self._crossImmMatrix)\n",
    "            self._Ts= torch.nn.Parameter(self._Ts)\n",
    "        self._init_mask_T()\n",
    "    def forward(self, state, t): # state shape:(1, K, n, 4, 1), t:(1, 1)\n",
    "        self._sampleT= self._mySig(self._trust*(t-self._Ts))\n",
    "        cL= self._sampleT[..., None, None]\n",
    "        cL= cL*self._controlMask+self._controlI\n",
    "        cL= cL[:, None, :, None, ..., None]\n",
    "        Linear= self.encode_linear()\n",
    "        linear= Linear*cL\n",
    "        A= linear.matmul(state[:, :, None, :, None, ...])\n",
    "        Psts= torch.prod(A, dim=1)\n",
    "        Psts= Psts.squeeze(dim=-1)\n",
    "        sumPsts= Psts.sum(dim= -2)+ 1e-8\n",
    "        sumPsts= sumPsts[:, :, :, None, :]\n",
    "        Psts= Psts/sumPsts\n",
    "        Psts2= Psts[:, :, :, 1, 0]\n",
    "        s= state[:, :, :, 0:1, 0]\n",
    "        i= state[:, :, :, 2:3, 0]\n",
    "        s= s.permute(0, 1, 3, 2)\n",
    "        Temp= self._contact*i*s\n",
    "        Psts2= 1-Temp*Psts2 [..., None]\n",
    "        Psts2= 1-torch.prod(Psts2, dim=-2)\n",
    "        #\n",
    "        PstsNew= Psts.clone()\n",
    "        #\n",
    "        PstsNew[:, :, :, 1, 0]= Psts2\n",
    "        PstsNew[:, :, :, 0, 0]= 1- Psts2\n",
    "\n",
    "        newState= PstsNew.matmul(state)# new state shape:(K, n, 4, 1)\n",
    "        return newState\n",
    "        \n",
    "    def _init_mask_T(self):\n",
    "        self._mask1= torch.tensor([ [0, 0, -100, -100],\n",
    "                                    [-100, 0, 0, -100],\n",
    "                                    [-100, -100, 0, 0],\n",
    "                                    [-100, -100, -100, 0]], device=self._device) \n",
    "        self._mask2= torch.tensor([ [0, 1, 0, 0],\n",
    "                                    [0, 0, 0, 0],\n",
    "                                    [0, 0, 0, 0],\n",
    "                                    [0, 0, 0, 0]], device=self._device) \n",
    "        self._T    = torch.tensor([ [0, 0, 0, 0],\n",
    "                                    [1, 0, 0, 0],\n",
    "                                    [0, 0, 0, 0],\n",
    "                                    [0, 0, 0, 0]], device=self._device) \n",
    "        self._mask1= self._mask1[None, ...]\n",
    "        self._controlMask= torch.tensor([   [0, 1, 1, 1],\n",
    "                                            [1, 0, 1, 1],\n",
    "                                            [1, 1, 0, 1],\n",
    "                                            [1, 1, 1, 0]], device=self._device)\n",
    "        self._controlI= torch.stack([1-self._controlMask]*self._k)\n",
    "        self._controlI= self._controlI[None, ...]\n",
    "        \n",
    "    def encode_linear(self):\n",
    "        ts= 4\n",
    "        linear= torch.ones(self._k, self._k, 1, ts, ts, ts, device=self._device)\n",
    "        psMatrix= self._mysoftmax(self._psMatrices+self._mask1)\n",
    "        crossImmMatrix= (self._crossImmMatrix+self._crossImmMatrix.T)/2\n",
    "        for i in range(self._k): # k layer\n",
    "            for j in range(self._k):# prod layer\n",
    "                if i==j: #load paMatrices\n",
    "                    for k in range(ts):\n",
    "                        linear[j, i, 0, :, :, k]= psMatrix[i, ...].T\n",
    "                else: #load crossImmMatrix\n",
    "                    linear[j, i, 0, 1, 0, 2:4]= crossImmMatrix[j, i]\n",
    "        return linear[None, ...]\n"
   ]
  },
  {
   "cell_type": "code",
   "execution_count": 3,
   "metadata": {},
   "outputs": [
    {
     "name": "stdout",
     "output_type": "stream",
     "text": [
      "tensor([[1., 1., 1., 1.],\n",
      "        [1., 1., 1., 1.]], device='cuda:0')\n"
     ]
    }
   ],
   "source": [
    "def sim(timeHorizon, model: general_EPIs_dense, state, device=\"cpu\"):\n",
    "    stateHistory=[]\n",
    "    staticSI=[]\n",
    "    for i in range(timeHorizon):\n",
    "        t= torch.tensor(i, dtype=torch.float32, device=device)\n",
    "        t= torch.stack([t])\n",
    "        t= t[..., None]\n",
    "        state= model(state, t)\n",
    "        stateHistory.append(state)\n",
    "        prob0= 1-state[0, 0, :, 2, 0]\n",
    "        prob1= 1-state[0, 1, :, 2, 0]\n",
    "        #prob2= 1-state[0, 2, :, 2, 0]\n",
    "        statisticI= 1-prob0*prob1#*prob2\n",
    "        staticSI.append(statisticI.sum())\n",
    "    stateHistory= torch.stack(stateHistory)\n",
    "    staticSI= torch.stack(staticSI)\n",
    "    return stateHistory, staticSI\n",
    "\n",
    "def init_first_cases(state:torch.tensor):\n",
    "    kn= state.shape[1]\n",
    "    for i in range(kn):\n",
    "        firstInfected= random.randint(0, n-1)\n",
    "        state[0, i, firstInfected, 2, 0]= 1 #go to hidden layer\n",
    "        state[0, i, firstInfected, 0, 0]= 0\n",
    "\n",
    "ps=  torch.tensor([[0.90, 0.10, 0, 0],\n",
    "                    [0, 0.40, 0.60, 0],\n",
    "                    [0, 0, 0.97, 0.03],\n",
    "                    [0, 0, 0.00, 1.00]], device=device)\n",
    "psMtrices= torch.stack([ps, ps])\n",
    "print(psMtrices.sum(dim=-1))\n",
    "crossImmMatrix= torch.tensor([[0, 0.8, 0.8],\n",
    "                              [0.8, 0, 0.8],\n",
    "                              [0.8, 0.8, 0]], device=device)\n",
    "Ts=  torch.tensor([35.0, 40], device=device)\n",
    "n= 1000\n",
    "avgDegree= 6\n",
    "timeHorizon= 100\n",
    "Kn= 2\n",
    "state= create_population.general_populations(Kn, n, device=device)#1, 3, 1000, 4, 1\n",
    "init_first_cases(state)\n",
    "contact=random_graph.get_ER_random_contact(n, avgDegree, device=device)\n",
    "inferenceModel= general_EPIs_dense(contact, psMtrices, crossImmMatrix, Ts, device=device)\n",
    "with torch.no_grad():\n",
    "    stateHistory, iTrue= sim(timeHorizon, inferenceModel, state, device=device)\n",
    "stateHistoryPlot= stateHistory.cpu().detach()\n",
    "iTruePlot= iTrue.cpu().detach()"
   ]
  },
  {
   "cell_type": "code",
   "execution_count": 4,
   "metadata": {},
   "outputs": [
    {
     "data": {
      "text/plain": [
       "<matplotlib.legend.Legend at 0x7f8c8015ca90>"
      ]
     },
     "execution_count": 4,
     "metadata": {},
     "output_type": "execute_result"
    },
    {
     "data": {
      "image/png": "[encoded data removed]",
      "text/plain": [
       "<Figure size 1800x600 with 1 Axes>"
      ]
     },
     "metadata": {},
     "output_type": "display_data"
    }
   ],
   "source": [
    "stateHistoryPlot0= stateHistoryPlot[0, :, 0, :, 0]\n",
    "stateHistoryPlot1= stateHistoryPlot[0, :, 1, :, 0]\n",
    "#stateHistoryPlot2= stateHistoryPlot[0, :, 2, :, 0]\n",
    "\n",
    "plt.figure(figsize=(18,6))\n",
    "# plt.plot(stateHistoryPlot0, label=[\"s0\", \"e0\", \"i0\", \"r0\"])\n",
    "# plt.plot(stateHistoryPlot1, label=[\"s1\", \"e1\", \"i1\", \"r1\"])\n",
    "# plt.plot(stateHistoryPlot2, label=[\"s2\", \"e2\", \"i2\", \"r2\"])\n",
    "# for i, _ in enumerate(staticSI):\n",
    "#     staticSI[i]= i*staticSI[i]\n",
    "plt.plot(iTruePlot, label=\"I\")\n",
    "plt.xlabel(\"Time\")\n",
    "#plt.ylabel(\"Infectiveness number\")\n",
    "plt.ylabel(\"people number\")\n",
    "plt.legend()"
   ]
  },
  {
   "cell_type": "code",
   "execution_count": 6,
   "metadata": {},
   "outputs": [
    {
     "name": "stdout",
     "output_type": "stream",
     "text": [
      "torch.Size([100, 1, 2, 1000, 4, 1])\n"
     ]
    }
   ],
   "source": [
    "print(stateHistory.shape)"
   ]
  },
  {
   "cell_type": "code",
   "execution_count": 5,
   "metadata": {},
   "outputs": [
    {
     "name": "stdout",
     "output_type": "stream",
     "text": [
      "[42.18215633 38.18269183]\n"
     ]
    }
   ],
   "source": [
    "from sklearn.mixture import GaussianMixture\n",
    "import numpy as np\n",
    "def estimate_days(trueDistribution, timeHorizon, component, sample_size = 1000):\n",
    "    propotionITrue= trueDistribution.cpu().detach().numpy()\n",
    "    propotionITrue[propotionITrue < component+0.1] = 0\n",
    "    propotionITrue= propotionITrue/propotionITrue.sum()\n",
    "    sampled_points = np.random.choice(timeHorizon, size=sample_size, p=propotionITrue)\n",
    "    gmm = GaussianMixture(n_components= component)\n",
    "    gmm.fit(sampled_points.reshape(-1, 1))\n",
    "    return gmm.means_.flatten()- 3*np.sqrt(gmm.covariances_).flatten()\n",
    "initDays= estimate_days(iTrue, timeHorizon, Kn)\n",
    "print(initDays)\n",
    "\n",
    "windowSize= 3\n",
    "batchSize= 60\n",
    "psF=  torch.tensor([[0.8, 0.2, 0, 0],\n",
    "                    [0, 0.5, 0.5, 0],\n",
    "                    [0, 0, 0.9, 0.1],\n",
    "                    [0, 0, 0, 1]], device=device)\n",
    "psMtricesF= torch.stack([psF, psF])\n",
    "crossImmMatrixF= torch.tensor([[0, 1.0,  1 ],\n",
    "                                [1, 0, 1],\n",
    "                                [1, 1, 0]], device=device)\n",
    "TsF=  torch.tensor(initDays, dtype= torch.float32, device=device)\n",
    "modelFit= general_EPIs_dense(contact, psMtricesF, crossImmMatrixF, TsF, device= device, train=True)\n",
    "lossFn = torch.nn.MSELoss(reduction='mean')\n",
    "optimizer = torch.optim.Adam([{'params': modelFit._Ts, 'lr': 0.1},\n",
    "                               {'params': modelFit._psMatrices, 'lr': 1e-3},\n",
    "                               {'params': modelFit._crossImmMatrix, 'lr': 1e-4}], lr=1)\n",
    "losses= []\n",
    "days= []\n",
    "grads= []\n",
    "alphas= []\n",
    "mean= 0\n",
    "var= 0\n",
    "alpha= 0.01\n",
    "timet= 0\n",
    "bestLoss= 100000\n",
    "bestPredict= None\n",
    "sampleGrads= []\n"
   ]
  },
  {
   "cell_type": "code",
   "execution_count": 68,
   "metadata": {},
   "outputs": [],
   "source": [
    "def generate_dateset(model: general_EPIs_dense, ys, timeHorizon=100, windowSize= 5, leastSampleNum= 60, device=\"cpu\"):\n",
    "    with torch.no_grad():\n",
    "        statesZero= create_population.general_populations(Kn, n, device=device)# 3, 1000, 4, 1\n",
    "        init_first_cases(statesZero)\n",
    "        allStates, IsTemp= sim(timeHorizon, model, statesZero, device=device)#generate data more times, 600, 3, 1000, 4, 1\n",
    "        diffI= torch.abs(IsTemp- ys)\n",
    "        middleValue= torch.median(diffI)\n",
    "        meanValue= torch.mean(diffI)\n",
    "        biggerThanMean= (diffI-meanValue)>0\n",
    "        biggerThanMeanNum= biggerThanMean.sum()\n",
    "        thresholdI= middleValue if biggerThanMeanNum< leastSampleNum else meanValue\n",
    "        infectiveNum= []\n",
    "        usefulStates= []\n",
    "        for i in range(timeHorizon-windowSize):\n",
    "            timesTemp= torch.tensor([j for j in range(i, i+windowSize)], dtype=torch.float32, device=device)\n",
    "            embedTemp= torch.stack([ys[i+1: i+windowSize+1], timesTemp])# +1 means predict\n",
    "            if diffI[i]>= thresholdI:\n",
    "                infectiveNum.append(embedTemp)\n",
    "                usefulStates.append(allStates[i, ...])\n",
    "        infectiveNum= torch.stack(infectiveNum)\n",
    "        usefulStates= torch.stack(usefulStates)\n",
    "        usefulStates= usefulStates.squeeze(dim=1)\n",
    "        dataset = torch.utils.data.TensorDataset(usefulStates, infectiveNum)\n",
    "        return dataset, IsTemp\n",
    "dataset, IsTemp= generate_dateset(modelFit, iTrue, timeHorizon, windowSize, device=device)\n",
    "#print(allStates.shape)#[97, 2, 1000, 4, 1]\n"
   ]
  },
  {
   "cell_type": "code",
   "execution_count": 69,
   "metadata": {},
   "outputs": [
    {
     "name": "stderr",
     "output_type": "stream",
     "text": [
      "100%|██████████| 4000/4000 [13:26<00:00,  4.96it/s]\n"
     ]
    }
   ],
   "source": [
    "#optimizer = torch.optim.Adam(modelFit.parameters(), lr=1e-2)\n",
    "iTrue.requires_grad_(True)\n",
    "#adaptive \n",
    "for i in tqdm(range(4000)):\n",
    "    dataset, IsTemp= generate_dateset(modelFit, iTrue, timeHorizon, windowSize, leastSampleNum= batchSize, device=device)\n",
    "    dataloader = torch.utils.data.DataLoader(dataset, batch_size=batchSize, shuffle = True)\n",
    "    modelFit._trust= alpha\n",
    "    #with torch.autograd.set_detect_anomaly(True):\n",
    "    for batch in dataloader:\n",
    "        optimizer.zero_grad()\n",
    "        fitY= []\n",
    "        x, y = batch\n",
    "        yT= y[:, 0, :]\n",
    "        timesT= y[:, 1, :]\n",
    "        x=[x]\n",
    "        for j in range(windowSize):\n",
    "            t= timesT[:, j:j+1]\n",
    "            stateNew= modelFit(x[-1], t)\n",
    "            prob0= 1-stateNew[:, 0, :, 2, 0]\n",
    "            prob1= 1-stateNew[:, 1, :, 2, 0]\n",
    "            #prob2= 1-stateNew[:, 2, :, 2, 0]\n",
    "            statisticI= 1-prob0*prob1#*prob2\n",
    "            fitY.append(statisticI.sum(dim=1))\n",
    "            x.append(stateNew)\n",
    "        yT= yT.T\n",
    "        fitY= torch.stack(fitY)\n",
    "        loss= lossFn(fitY, yT)\n",
    "        losses.append(loss.item())\n",
    "        loss.backward(retain_graph=True)\n",
    "        #gradient clipping\n",
    "        #clip_value= 100.0\n",
    "        parameters = [param for param in modelFit.parameters() if param.grad is not None]\n",
    "        gradients = torch.cat([param.grad.view(-1) for param in parameters])\n",
    "        total_norm = torch.norm(gradients)\n",
    "        if(torch.isnan(total_norm)):\n",
    "            print(\"NAN LOSS\")\n",
    "            continue\n",
    "        # if total_norm > clip_value:\n",
    "        #     scale_factor = clip_value / total_norm\n",
    "        #     for param in parameters:\n",
    "        #         param.grad.data.mul_(scale_factor)\n",
    "        #adaptive\n",
    "        days.append([modelFit._Ts[0,0].item(), modelFit._Ts[0,1].item()])\n",
    "        gradTs = torch.autograd.grad(loss, modelFit._sampleT)\n",
    "        gradTs = gradTs[0].sum(dim=0)/batchSize\n",
    "        sampleGrads.append(gradTs)\n",
    "        gradT= gradTs\n",
    "        beta1= 0.9\n",
    "        beta2= 0.999\n",
    "        mean= beta1*mean+ (1-beta1)*gradT\n",
    "        var= beta2*var+(1-beta2)*gradT**2\n",
    "        m_hat = mean / (1 - beta1**(timet+1))\n",
    "        v_hat = var / (1 - beta2**(timet+1))\n",
    "        timet+=1\n",
    "        #alphaNew= torch.sqrt(v_hat)/(torch.abs(m_hat)+1e-5)*0.1\n",
    "        alphaNew= 1/(torch.abs(m_hat)+torch.sqrt(v_hat))*4\n",
    "        alpha= alpha*0.99+alphaNew*0.01 if alphaNew.sum()<400 else alpha+alphaNew*0\n",
    "        alphas.append(alpha)\n",
    "        grads.append(gradT)\n",
    "        optimizer.step()\n",
    "        if loss.item()<= bestLoss:\n",
    "            bestLoss= loss.item()\n",
    "            bestPredict= IsTemp.cpu().detach()\n",
    "        break\n"
   ]
  },
  {
   "cell_type": "code",
   "execution_count": 185,
   "metadata": {},
   "outputs": [
    {
     "name": "stdout",
     "output_type": "stream",
     "text": [
      "tensor([[-0.0571, 15.3807]], device='cuda:0')\n",
      "Parameter containing:\n",
      "tensor([[30.0084, 38.0825]], device='cuda:0', requires_grad=True)\n"
     ]
    }
   ],
   "source": [
    "print(modelFit._Ts.grad)\n",
    "print(modelFit._Ts)"
   ]
  },
  {
   "cell_type": "code",
   "execution_count": 59,
   "metadata": {},
   "outputs": [
    {
     "ename": "RuntimeError",
     "evalue": "stack expects a non-empty TensorList",
     "output_type": "error",
     "traceback": [
      "\u001b[0;31m---------------------------------------------------------------------------\u001b[0m",
      "\u001b[0;31mRuntimeError\u001b[0m                              Traceback (most recent call last)",
      "Cell \u001b[0;32mIn[59], line 1\u001b[0m\n\u001b[0;32m----> 1\u001b[0m sampleGradsTensor\u001b[39m=\u001b[39m torch\u001b[39m.\u001b[39;49mstack(sampleGrads)\n\u001b[1;32m      2\u001b[0m plotSampleGrads\u001b[39m=\u001b[39m sampleGradsTensor\u001b[39m.\u001b[39mcpu()\u001b[39m.\u001b[39mdetach()\n\u001b[1;32m      3\u001b[0m plt\u001b[39m.\u001b[39mplot(plotSampleGrads)\n",
      "\u001b[0;31mRuntimeError\u001b[0m: stack expects a non-empty TensorList"
     ]
    }
   ],
   "source": [
    "sampleGradsTensor= torch.stack(sampleGrads)\n",
    "plotSampleGrads= sampleGradsTensor.cpu().detach()\n",
    "plt.plot(plotSampleGrads)\n",
    "#plt.yscale(\"log\")"
   ]
  },
  {
   "cell_type": "code",
   "execution_count": 60,
   "metadata": {},
   "outputs": [
    {
     "ename": "RuntimeError",
     "evalue": "stack expects a non-empty TensorList",
     "output_type": "error",
     "traceback": [
      "\u001b[0;31m---------------------------------------------------------------------------\u001b[0m",
      "\u001b[0;31mRuntimeError\u001b[0m                              Traceback (most recent call last)",
      "Cell \u001b[0;32mIn[60], line 1\u001b[0m\n\u001b[0;32m----> 1\u001b[0m alphasTensor\u001b[39m=\u001b[39m torch\u001b[39m.\u001b[39;49mstack(alphas)\u001b[39m.\u001b[39mcpu()\u001b[39m.\u001b[39msqueeze()\u001b[39m.\u001b[39mdetach()\n\u001b[1;32m      2\u001b[0m plt\u001b[39m.\u001b[39mplot(alphasTensor[\u001b[39m0\u001b[39m:, :], label\u001b[39m=\u001b[39m[\u001b[39m\"\u001b[39m\u001b[39malpha0\u001b[39m\u001b[39m\"\u001b[39m, \u001b[39m\"\u001b[39m\u001b[39malpha1\u001b[39m\u001b[39m\"\u001b[39m])\n\u001b[1;32m      3\u001b[0m \u001b[39mprint\u001b[39m(alphasTensor[\u001b[39m-\u001b[39m\u001b[39m1\u001b[39m, :])\n",
      "\u001b[0;31mRuntimeError\u001b[0m: stack expects a non-empty TensorList"
     ]
    }
   ],
   "source": [
    "alphasTensor= torch.stack(alphas).cpu().squeeze().detach()\n",
    "plt.plot(alphasTensor[0:, :], label=[\"alpha0\", \"alpha1\"])\n",
    "print(alphasTensor[-1, :])\n",
    "plt.yscale(\"log\")\n",
    "plt.legend()\n",
    "plt.xlabel(\"epoches\")\n",
    "plt.ylabel(\"a\")"
   ]
  },
  {
   "cell_type": "code",
   "execution_count": 61,
   "metadata": {},
   "outputs": [
    {
     "ename": "IndexError",
     "evalue": "list index out of range",
     "output_type": "error",
     "traceback": [
      "\u001b[0;31m---------------------------------------------------------------------------\u001b[0m",
      "\u001b[0;31mIndexError\u001b[0m                                Traceback (most recent call last)",
      "Cell \u001b[0;32mIn[61], line 4\u001b[0m\n\u001b[1;32m      1\u001b[0m \u001b[39m#print(grads)\u001b[39;00m\n\u001b[1;32m      2\u001b[0m \u001b[39m#plt.plot(grads, label=\"grad\")\u001b[39;00m\n\u001b[1;32m      3\u001b[0m plt\u001b[39m.\u001b[39mplot(days, label\u001b[39m=\u001b[39m[\u001b[39m\"\u001b[39m\u001b[39m0\u001b[39m\u001b[39m\"\u001b[39m, \u001b[39m\"\u001b[39m\u001b[39m1\u001b[39m\u001b[39m\"\u001b[39m])\n\u001b[0;32m----> 4\u001b[0m \u001b[39mprint\u001b[39m(days[\u001b[39m-\u001b[39;49m\u001b[39m1\u001b[39;49m])\n\u001b[1;32m      5\u001b[0m plt\u001b[39m.\u001b[39mlegend()\n\u001b[1;32m      6\u001b[0m plt\u001b[39m.\u001b[39mxlabel(\u001b[39m\"\u001b[39m\u001b[39mepoches\u001b[39m\u001b[39m\"\u001b[39m)\n",
      "\u001b[0;31mIndexError\u001b[0m: list index out of range"
     ]
    },
    {
     "data": {
      "image/png": "[encoded data removed]",
      "text/plain": [
       "<Figure size 640x480 with 1 Axes>"
      ]
     },
     "metadata": {},
     "output_type": "display_data"
    }
   ],
   "source": [
    "#print(grads)\n",
    "#plt.plot(grads, label=\"grad\")\n",
    "plt.plot(days, label=[\"0\", \"1\"])\n",
    "print(days[-1])\n",
    "plt.legend()\n",
    "plt.xlabel(\"epoches\")\n",
    "#plt.yscale(\"log\")\n"
   ]
  },
  {
   "cell_type": "code",
   "execution_count": 62,
   "metadata": {},
   "outputs": [
    {
     "name": "stdout",
     "output_type": "stream",
     "text": [
      "Parameter containing:\n",
      "tensor([[40., 40.]], device='cuda:0', requires_grad=True)\n"
     ]
    },
    {
     "ename": "ValueError",
     "evalue": "x, y, and format string must not be None",
     "output_type": "error",
     "traceback": [
      "\u001b[0;31m---------------------------------------------------------------------------\u001b[0m",
      "\u001b[0;31mValueError\u001b[0m                                Traceback (most recent call last)",
      "Cell \u001b[0;32mIn[62], line 8\u001b[0m\n\u001b[1;32m      5\u001b[0m fig, (ax1, ax2) \u001b[39m=\u001b[39m plt\u001b[39m.\u001b[39msubplots(\u001b[39m1\u001b[39m, \u001b[39m2\u001b[39m, figsize\u001b[39m=\u001b[39m(\u001b[39m10\u001b[39m, \u001b[39m4\u001b[39m))\n\u001b[1;32m      7\u001b[0m \u001b[39m# Plot the first sub-figure\u001b[39;00m\n\u001b[0;32m----> 8\u001b[0m ax1\u001b[39m.\u001b[39;49mplot(bestPlot, label\u001b[39m=\u001b[39;49m\u001b[39m\"\u001b[39;49m\u001b[39mBest Predict\u001b[39;49m\u001b[39m\"\u001b[39;49m)\n\u001b[1;32m      9\u001b[0m ax1\u001b[39m.\u001b[39mplot(IsTempPlot, label\u001b[39m=\u001b[39m\u001b[39m\"\u001b[39m\u001b[39mPredict\u001b[39m\u001b[39m\"\u001b[39m)\n\u001b[1;32m     10\u001b[0m ax1\u001b[39m.\u001b[39mplot(iTruePlot, label\u001b[39m=\u001b[39m\u001b[39m\"\u001b[39m\u001b[39mTrue\u001b[39m\u001b[39m\"\u001b[39m)\n",
      "File \u001b[0;32m~/.conda/envs/tf/lib/python3.9/site-packages/matplotlib/axes/_axes.py:1662\u001b[0m, in \u001b[0;36mAxes.plot\u001b[0;34m(self, scalex, scaley, data, *args, **kwargs)\u001b[0m\n\u001b[1;32m   1419\u001b[0m \u001b[39m\"\"\"\u001b[39;00m\n\u001b[1;32m   1420\u001b[0m \u001b[39mPlot y versus x as lines and/or markers.\u001b[39;00m\n\u001b[1;32m   1421\u001b[0m \n\u001b[0;32m   (...)\u001b[0m\n\u001b[1;32m   1659\u001b[0m \u001b[39m(``'green'``) or hex strings (``'#008000'``).\u001b[39;00m\n\u001b[1;32m   1660\u001b[0m \u001b[39m\"\"\"\u001b[39;00m\n\u001b[1;32m   1661\u001b[0m kwargs \u001b[39m=\u001b[39m cbook\u001b[39m.\u001b[39mnormalize_kwargs(kwargs, mlines\u001b[39m.\u001b[39mLine2D)\n\u001b[0;32m-> 1662\u001b[0m lines \u001b[39m=\u001b[39m [\u001b[39m*\u001b[39m\u001b[39mself\u001b[39m\u001b[39m.\u001b[39m_get_lines(\u001b[39m*\u001b[39margs, data\u001b[39m=\u001b[39mdata, \u001b[39m*\u001b[39m\u001b[39m*\u001b[39mkwargs)]\n\u001b[1;32m   1663\u001b[0m \u001b[39mfor\u001b[39;00m line \u001b[39min\u001b[39;00m lines:\n\u001b[1;32m   1664\u001b[0m     \u001b[39mself\u001b[39m\u001b[39m.\u001b[39madd_line(line)\n",
      "File \u001b[0;32m~/.conda/envs/tf/lib/python3.9/site-packages/matplotlib/axes/_base.py:311\u001b[0m, in \u001b[0;36m_process_plot_var_args.__call__\u001b[0;34m(self, data, *args, **kwargs)\u001b[0m\n\u001b[1;32m    309\u001b[0m     this \u001b[39m+\u001b[39m\u001b[39m=\u001b[39m args[\u001b[39m0\u001b[39m],\n\u001b[1;32m    310\u001b[0m     args \u001b[39m=\u001b[39m args[\u001b[39m1\u001b[39m:]\n\u001b[0;32m--> 311\u001b[0m \u001b[39myield from\u001b[39;00m \u001b[39mself\u001b[39;49m\u001b[39m.\u001b[39;49m_plot_args(\n\u001b[1;32m    312\u001b[0m     this, kwargs, ambiguous_fmt_datakey\u001b[39m=\u001b[39;49mambiguous_fmt_datakey)\n",
      "File \u001b[0;32m~/.conda/envs/tf/lib/python3.9/site-packages/matplotlib/axes/_base.py:465\u001b[0m, in \u001b[0;36m_process_plot_var_args._plot_args\u001b[0;34m(self, tup, kwargs, return_kwargs, ambiguous_fmt_datakey)\u001b[0m\n\u001b[1;32m    462\u001b[0m \u001b[39m# Don't allow any None value; these would be up-converted to one\u001b[39;00m\n\u001b[1;32m    463\u001b[0m \u001b[39m# element array of None which causes problems downstream.\u001b[39;00m\n\u001b[1;32m    464\u001b[0m \u001b[39mif\u001b[39;00m \u001b[39many\u001b[39m(v \u001b[39mis\u001b[39;00m \u001b[39mNone\u001b[39;00m \u001b[39mfor\u001b[39;00m v \u001b[39min\u001b[39;00m tup):\n\u001b[0;32m--> 465\u001b[0m     \u001b[39mraise\u001b[39;00m \u001b[39mValueError\u001b[39;00m(\u001b[39m\"\u001b[39m\u001b[39mx, y, and format string must not be None\u001b[39m\u001b[39m\"\u001b[39m)\n\u001b[1;32m    467\u001b[0m kw \u001b[39m=\u001b[39m {}\n\u001b[1;32m    468\u001b[0m \u001b[39mfor\u001b[39;00m prop_name, val \u001b[39min\u001b[39;00m \u001b[39mzip\u001b[39m((\u001b[39m'\u001b[39m\u001b[39mlinestyle\u001b[39m\u001b[39m'\u001b[39m, \u001b[39m'\u001b[39m\u001b[39mmarker\u001b[39m\u001b[39m'\u001b[39m, \u001b[39m'\u001b[39m\u001b[39mcolor\u001b[39m\u001b[39m'\u001b[39m),\n\u001b[1;32m    469\u001b[0m                           (linestyle, marker, color)):\n",
      "\u001b[0;31mValueError\u001b[0m: x, y, and format string must not be None"
     ]
    },
    {
     "data": {
      "image/png": "[encoded data removed]",
      "text/plain": [
       "<Figure size 1000x400 with 2 Axes>"
      ]
     },
     "metadata": {},
     "output_type": "display_data"
    }
   ],
   "source": [
    "print(modelFit._Ts)\n",
    "IsTempPlot= IsTemp.cpu().detach()\n",
    "bestPlot= bestPredict\n",
    "\n",
    "fig, (ax1, ax2) = plt.subplots(1, 2, figsize=(10, 4))\n",
    "\n",
    "# Plot the first sub-figure\n",
    "ax1.plot(bestPlot, label=\"Best Predict\")\n",
    "ax1.plot(IsTempPlot, label=\"Predict\")\n",
    "ax1.plot(iTruePlot, label=\"True\")\n",
    "ax1.legend()\n",
    "# Plot the second sub-figure\n",
    "ax2.plot(losses)\n",
    "ax2.set_yscale(\"log\")\n",
    "# Adjust the spacing between sub-plots\n",
    "plt.tight_layout()\n",
    "# Show the plot\n",
    "plt.show()"
   ]
  },
  {
   "cell_type": "code",
   "execution_count": 195,
   "metadata": {},
   "outputs": [
    {
     "name": "stdout",
     "output_type": "stream",
     "text": [
      "Parameter containing:\n",
      "tensor([[[ 7.4707e-01,  2.5293e-01, -5.0789e-33, -4.2658e-35],\n",
      "         [-4.4867e-34,  5.8633e-01,  4.1367e-01, -4.9313e-34],\n",
      "         [ 5.1297e-35, -9.7387e-35,  9.5014e-01,  4.9861e-02],\n",
      "         [-4.8728e-35, -2.1255e-32, -6.2158e-32,  1.0000e+00]],\n",
      "\n",
      "        [[ 1.0762e+00, -7.6166e-02, -3.2321e-32,  6.6598e-35],\n",
      "         [-3.3174e-34,  6.3538e-01,  3.6463e-01, -3.8148e-34],\n",
      "         [ 2.7799e-34,  1.4845e-34,  9.6983e-01,  3.0165e-02],\n",
      "         [-2.0663e-35, -6.1699e-33, -2.0547e-32,  1.0000e+00]]],\n",
      "       device='cuda:0', requires_grad=True)\n"
     ]
    }
   ],
   "source": [
    "print(modelFit._psMatrices)"
   ]
  },
  {
   "cell_type": "code",
   "execution_count": 121,
   "metadata": {},
   "outputs": [
    {
     "name": "stdout",
     "output_type": "stream",
     "text": [
      "tensor(171.4198, device='cuda:0', grad_fn=<MseLossBackward0>)\n",
      "tensor([[[5.1846e-01, 4.8154e-01, 1.1210e-44, 1.1210e-44],\n",
      "         [1.1210e-44, 5.9201e-01, 4.0799e-01, 1.1210e-44],\n",
      "         [1.1210e-44, 1.1210e-44, 6.4518e-01, 3.5482e-01],\n",
      "         [1.4013e-44, 1.4013e-44, 1.4013e-44, 1.0000e+00]],\n",
      "\n",
      "        [[7.4925e-01, 2.5075e-01, 9.8091e-45, 9.8091e-45],\n",
      "         [1.1210e-44, 5.2077e-01, 4.7923e-01, 1.1210e-44],\n",
      "         [9.8091e-45, 9.8091e-45, 7.7037e-01, 2.2963e-01],\n",
      "         [1.4013e-44, 1.4013e-44, 1.4013e-44, 1.0000e+00]]], device='cuda:0',\n",
      "       grad_fn=<SoftmaxBackward0>)\n",
      "name           : _psMatrices\n",
      "parameter      : Parameter containing:\n",
      "tensor([[[ 5.3694e-01,  4.6307e-01,  1.2374e-33,  1.8273e-34],\n",
      "         [ 3.9308e-33,  6.8614e-01,  3.1385e-01,  4.1369e-33],\n",
      "         [ 7.7347e-33,  5.8776e-33,  7.9896e-01,  2.0104e-01],\n",
      "         [-9.7752e-35,  2.3052e-33,  1.0755e-32,  1.0000e+00]],\n",
      "\n",
      "        [[ 1.0473e+00, -4.7303e-02,  2.4615e-33,  2.2075e-34],\n",
      "         [ 1.1422e-33,  5.4156e-01,  4.5844e-01,  1.2099e-33],\n",
      "         [-7.6737e-34,  5.1975e-36,  1.1052e+00, -1.0520e-01],\n",
      "         [ 8.9302e-35,  1.5510e-34,  7.1986e-33,  1.0000e+00]]],\n",
      "       device='cuda:0', requires_grad=True)\n",
      "learnable      : True\n",
      "parameter.shape: torch.Size([2, 4, 4])\n",
      "parameter.grad: tensor([[[ 1.0947e+02, -1.0947e+02, -7.2579e-41,  2.3290e-42],\n",
      "         [ 1.0726e-41,  3.6801e+02, -3.6801e+02,  1.1373e-41],\n",
      "         [ 5.7397e-42,  4.7868e-42, -1.8909e+02,  1.8909e+02],\n",
      "         [ 5.0447e-44,  5.8915e-41,  2.0829e-40, -4.3969e-41]],\n",
      "\n",
      "        [[ 2.5059e+01, -2.5059e+01, -6.5308e-41,  2.9287e-43],\n",
      "         [-2.8727e-43,  1.9710e+01, -1.9710e+01, -2.8727e-43],\n",
      "         [-1.6488e-41, -8.6993e-42,  3.9280e+02, -3.9280e+02],\n",
      "         [ 1.0706e-42,  6.3681e-41,  2.1495e-40, -4.2672e-41]]],\n",
      "       device='cuda:0')\n",
      "---------------------------------\n",
      "name           : _crossImmMatrix\n",
      "parameter      : Parameter containing:\n",
      "tensor([[0.0000, 0.9953, 1.0000],\n",
      "        [0.9953, 0.0000, 1.0000],\n",
      "        [1.0000, 1.0000, 0.0000]], device='cuda:0', requires_grad=True)\n",
      "learnable      : True\n",
      "parameter.shape: torch.Size([3, 3])\n",
      "parameter.grad: tensor([[0.0000, 1.3959, 0.0000],\n",
      "        [1.3959, 0.0000, 0.0000],\n",
      "        [0.0000, 0.0000, 0.0000]], device='cuda:0')\n",
      "---------------------------------\n",
      "name           : _Ts\n",
      "parameter      : Parameter containing:\n",
      "tensor([[35.3968, 37.0378]], device='cuda:0', requires_grad=True)\n",
      "learnable      : True\n",
      "parameter.shape: torch.Size([1, 2])\n",
      "parameter.grad: tensor([[3.4941, 3.1076]], device='cuda:0')\n",
      "---------------------------------\n"
     ]
    }
   ],
   "source": [
    "print(loss)\n",
    "print(modelFit._mysoftmax(modelFit._psMatrices+modelFit._mask1))\n",
    "def print_model_parameters(model):\n",
    "    for name, parameter in model.named_parameters():\n",
    "        print('name           : {}'.format(name))\n",
    "        print('parameter      : {}'.format(parameter))\n",
    "        print('learnable      : {}'.format(parameter.requires_grad))\n",
    "        print('parameter.shape: {}'.format(parameter.shape))\n",
    "        print('parameter.grad: {}'.format(parameter.grad))\n",
    "        print('---------------------------------')\n",
    "print_model_parameters(modelFit)"
   ]
  }
 ],
 "metadata": {
  "kernelspec": {
   "display_name": "tf",
   "language": "python",
   "name": "python3"
  },
  "language_info": {
   "codemirror_mode": {
    "name": "ipython",
    "version": 3
   },
   "file_extension": ".py",
   "mimetype": "text/x-python",
   "name": "python",
   "nbconvert_exporter": "python",
   "pygments_lexer": "ipython3",
   "version": "3.9.15"
  },
  "orig_nbformat": 4
 },
 "nbformat": 4,
 "nbformat_minor": 2
}
