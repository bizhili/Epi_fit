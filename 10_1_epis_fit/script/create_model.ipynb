{
 "cells": [
  {
   "cell_type": "code",
   "execution_count": 1,
   "metadata": {},
   "outputs": [],
   "source": [
    "import sys\n",
    "sys.path.append('../')\n",
    "\n",
    "import graph.random_graph as random_graph\n",
    "import util.create_population as create_population\n",
    "\n",
    "import torch\n",
    "import pandas as pd\n",
    "import random\n",
    "from matplotlib import pyplot as plt\n",
    "import networkx as nx\n",
    "\n",
    "device = \"cuda\" if torch.cuda.is_available() else \"cpu\""
   ]
  },
  {
   "cell_type": "code",
   "execution_count": null,
   "metadata": {},
   "outputs": [],
   "source": [
    "class general_EPIs_dense(torch.nn.Module):\n",
    "    def __init__(self, contact, psMatrices, crossImmMatrix, train=False, sampleAsState=False, device=\"cpu\"):\n",
    "        super(general_EPIs_dense, self).__init__()\n",
    "        self._n= contact.size()[0]\n",
    "        self._k= psMatrices.size()[0]\n",
    "        self._contact= contact\n",
    "        self._psMatrices= psMatrices\n",
    "        self._crossImmMatrix= crossImmMatrix\n",
    "        self._train= train\n",
    "        self._device= device\n",
    "        self._sampleAsState= sampleAsState\n",
    "        self._Linear= torch.randn(self._k, self._k, 4, 4, 4)\n",
    "        if train==True:\n",
    "            self._Linear=torch.nn.Parameter(self._Linear)\n",
    "        self._forceCc=torch.tensor([[0, 1, 0, 0],\n",
    "                                    [0, 0, 1, 1],\n",
    "                                    [0, 0, 0, 1],\n",
    "                                    [0, 0, 0, 0]], device=device) \n",
    "        self._init_mask_T()\n",
    "    def forward(self, state): # state shape:(K,4,n)\n",
    "        A= self._Linear.matmul(state[:, None, None, ...])\n",
    "        Psts= torch.prod(A, dim=0)\n",
    "        Psts= Psts*self._mask1\n",
    "\n",
    "        pass\n",
    "\n",
    "\n",
    "        \n",
    "    def _init_mask_T(self):\n",
    "        self._mask1= torch.tensor([ [0, 0, 0, 0],\n",
    "                                    [0, 1, 1, 0],\n",
    "                                    [0, 0, 1, 1],\n",
    "                                    [0, 0, 0, 1]], device=device) \n",
    "        self._mask2= torch.tensor([ [0, 1, 0, 0],\n",
    "                                    [0, 0, 0, 0],\n",
    "                                    [0, 0, 0, 0],\n",
    "                                    [0, 0, 0, 0]], device=device) \n",
    "        self._T    = torch.tensor([ [0, 0, 0, 0],\n",
    "                                    [1, 0, 0, 0],\n",
    "                                    [0, 0, 0, 0],\n",
    "                                    [0, 0, 0, 0]], device=device) \n",
    "        self._mask1= self._mask1[None, ..., None]\n",
    "        pass\n"
   ]
  }
 ],
 "metadata": {
  "kernelspec": {
   "display_name": "tf",
   "language": "python",
   "name": "python3"
  },
  "language_info": {
   "codemirror_mode": {
    "name": "ipython",
    "version": 3
   },
   "file_extension": ".py",
   "mimetype": "text/x-python",
   "name": "python",
   "nbconvert_exporter": "python",
   "pygments_lexer": "ipython3",
   "version": "3.9.15"
  },
  "orig_nbformat": 4
 },
 "nbformat": 4,
 "nbformat_minor": 2
}
